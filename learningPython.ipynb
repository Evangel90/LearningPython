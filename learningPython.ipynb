{
  "nbformat": 4,
  "nbformat_minor": 0,
  "metadata": {
    "colab": {
      "provenance": [],
      "authorship_tag": "ABX9TyP2ZNcLLh4XiGL7u0Obs+eV",
      "include_colab_link": true
    },
    "kernelspec": {
      "name": "python3",
      "display_name": "Python 3"
    },
    "language_info": {
      "name": "python"
    }
  },
  "cells": [
    {
      "cell_type": "markdown",
      "metadata": {
        "id": "view-in-github",
        "colab_type": "text"
      },
      "source": [
        "<a href=\"https://colab.research.google.com/github/Evangel90/LearningPython/blob/main/learningPython.ipynb\" target=\"_parent\"><img src=\"https://colab.research.google.com/assets/colab-badge.svg\" alt=\"Open In Colab\"/></a>"
      ]
    },
    {
      "cell_type": "code",
      "source": [
        "class Transaction:\n",
        "  def __init__(self, user1Balance, user2Balance):\n",
        "    self.user1 = user1Balance\n",
        "    self.user2 = user2Balance\n",
        "\n",
        "  def transfer(self, amount):\n",
        "    self.user1 -= amount\n",
        "    self.user2 += amount\n",
        "\n",
        "tx1 = Transaction(2000, 1000)\n",
        "tx1.transfer(100)\n",
        "print(f\"User1 Balance = {tx1.user1} and User2 Balance = {tx1.user2}\")\n",
        "\n"
      ],
      "metadata": {
        "colab": {
          "base_uri": "https://localhost:8080/"
        },
        "id": "xJEQh4OXG7g5",
        "outputId": "08818647-c519-43c9-c444-f5512ffd0111"
      },
      "execution_count": null,
      "outputs": [
        {
          "output_type": "stream",
          "name": "stdout",
          "text": [
            "User1 Balance = 1900 and User2 Balance = 1100\n"
          ]
        }
      ]
    },
    {
      "cell_type": "code",
      "execution_count": null,
      "metadata": {
        "colab": {
          "base_uri": "https://localhost:8080/"
        },
        "id": "nA8-jD95xohn",
        "outputId": "e4103181-e52c-4293-ebe6-1deaf6039756"
      },
      "outputs": [
        {
          "output_type": "stream",
          "name": "stdout",
          "text": [
            "copilot was Created by Github\n"
          ]
        }
      ],
      "source": [
        "from typing import Final\n",
        "\n",
        "agi = [\"chatgpt\", \"gemini\", \"bard\", \"copilot\"]\n",
        "\n",
        "def bestAi(ai, name):\n",
        "  try:\n",
        "    NAME: Final[str] = \"Default User\"\n",
        "\n",
        "    if agi[ai] == \"chatgpt\":\n",
        "      print(agi[ai], 'was Created by OpenAi')\n",
        "    elif agi[ai] == \"gemini\":\n",
        "      print(agi[ai], 'was Created by Google')\n",
        "    elif agi[ai] == \"bard\":\n",
        "      print(agi[ai], 'was Created by Google but was replaced with gemini')\n",
        "    elif agi[ai] == \"copilot\":\n",
        "      print(agi[ai], 'was Created by Github')\n",
        "\n",
        "    #still runs even with error indicator\n",
        "    #NAME = name\n",
        "  except IndexError:\n",
        "    print(f\"No value exists at index {ai}\")\n",
        "\n",
        "bestAi(3, \"joe\")"
      ]
    }
  ]
}